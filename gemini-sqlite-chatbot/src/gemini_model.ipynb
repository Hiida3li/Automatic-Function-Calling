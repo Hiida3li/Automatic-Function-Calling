{
 "cells": [
  {
   "cell_type": "code",
   "execution_count": 14,
   "metadata": {},
   "outputs": [],
   "source": [
    "from google import genai\n",
    "from google.genai import types\n",
    "from db_tools import list_tables, describe_table, execute_query"
   ]
  },
  {
   "cell_type": "code",
   "execution_count": 16,
   "metadata": {},
   "outputs": [],
   "source": [
    "import os\n",
    "from dotenv import load_dotenv\n",
    "\n",
    "load_dotenv()\n",
    "api_key = os.getenv(\"google_api_key\")\n"
   ]
  },
  {
   "cell_type": "code",
   "execution_count": 19,
   "metadata": {},
   "outputs": [],
   "source": [
    "def create_chat_client(api_key: str):\n",
    "    \"\"\"Create Gemini chat client with function calling.\"\"\"\n",
    "    client = genai.Client(api_key=api_key)\n",
    "    \n",
    "    db_tools = [list_tables, describe_table, execute_query]\n",
    "    \n",
    "    instruction = \"\"\"You are a helpful chatbot that can interact with an SQL database\n",
    "    for a computer store. You will take the users questions and turn them into SQL\n",
    "    queries using the tools available. Once you have the information you need, you will\n",
    "    answer the user's question using the data returned.\n",
    "    \n",
    "    Use list_tables to see what tables are present, describe_table to understand the\n",
    "    schema, and execute_query to issue an SQL SELECT query.\"\"\"\n",
    "    \n",
    "    chat = client.chats.create(\n",
    "        model=\"gemini-2.0-flash\",\n",
    "        config=types.GenerateContentConfig(\n",
    "            system_instruction=instruction,\n",
    "            tools=db_tools,\n",
    "        ),\n",
    "    )\n",
    "    return chat"
   ]
  },
  {
   "cell_type": "code",
   "execution_count": 30,
   "metadata": {},
   "outputs": [
    {
     "name": "stdout",
     "output_type": "stream",
     "text": [
      "\n",
      "Here's the number of orders per staff member:\n",
      "\n",
      "*   Staff ID 1: 9 orders\n",
      "*   Staff ID 2: 5 orders\n",
      "*   Staff ID 3: 2 orders\n",
      "*   Staff ID 4: 1 order\n",
      "*   Staff ID 5: 3 orders\n"
     ]
    }
   ],
   "source": [
    "if __name__ == \"__main__\":\n",
    "    load_dotenv()\n",
    "    api_key = os.getenv(\"google_api_key\")\n",
    "    \n",
    "    chat = create_chat_client(api_key)\n",
    "    resp = chat.send_message(\"Plot number of orders per staff\")\n",
    "    print(f\"\\n{resp.text}\")"
   ]
  }
 ],
 "metadata": {
  "kernelspec": {
   "display_name": "Python (venv)",
   "language": "python",
   "name": "venv"
  },
  "language_info": {
   "codemirror_mode": {
    "name": "ipython",
    "version": 3
   },
   "file_extension": ".py",
   "mimetype": "text/x-python",
   "name": "python",
   "nbconvert_exporter": "python",
   "pygments_lexer": "ipython3",
   "version": "3.12.5"
  }
 },
 "nbformat": 4,
 "nbformat_minor": 2
}
